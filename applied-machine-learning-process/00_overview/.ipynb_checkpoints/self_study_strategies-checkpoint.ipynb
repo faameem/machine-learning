{
 "cells": [
  {
   "cell_type": "markdown",
   "metadata": {},
   "source": [
    "> Reference: [Machine Learning Mastery](http://machinelearningmastery.com/self-study-machine-learning-projects/)\n",
    "\n",
    "# Strategies #\n",
    "\n",
    "* __Study a Machine Learning Tool__\n",
    "    - Select a tool or library that you like and learn how to use it well.\n",
    "    - scikit-learn, R, Weka, waffles, or orange\n",
    "\n",
    "* __Study a Machine Learning Dataset__\n",
    "    - Select a dataset and understand it intimately and discover which algorithm class or type addresses it the best.\n",
    "    - [UCI ML Repo](http://archive.ics.uci.edu/ml/datasets.html), [Kaggle](http://www.kaggle.com/), [data.gov](http://www.data.gov/)\n",
    "\n",
    "* __Study a Machine Learning Algorithm__\n",
    "    - Select an algorithm and understand it intimately and discover parameter configurations that are stable across different datasets.\n",
    "\n",
    "* __Implement a Machine Learning Algorithm__\n",
    "    - Select an algorithm and implement or port an existing implementation to a language of your choice.\n",
    "    \n",
    "# Small Project Methodology #\n",
    "\n",
    "* __Small in Time__\n",
    "    - Project inception to presentation of result should not take longer than 5-15 hours.\n",
    "* __ Small in Scope__\n",
    "    - A project should address the most narrow version of the question you are interested in and still be meaningful.\n",
    "* __Small in Resources__\n",
    "    - Project should be able to complete using desktop/laptop over an internet connection.\n",
    "    \n",
    "# Additional Tips #\n",
    "\n",
    "* __Write down what you learn__ \n",
    "    -  Have a tangible work product for every step you take. This could be a note in a journal, a tweet, a blog post or an open source project. Each work product acts as an anchor and a milestone.\n",
    "* __Do not write code unless that is the purpose of the project__\n",
    "* __The goal is for you to learn something not to create a unique resource__ \n",
    "    - No one will read your studies or tutorials or notes on an algorithm, ignore this for now. They are your perspective and your work product to demonstrate that you now know something."
   ]
  }
 ],
 "metadata": {
  "kernelspec": {
   "display_name": "Python [default]",
   "language": "python",
   "name": "python3"
  },
  "language_info": {
   "codemirror_mode": {
    "name": "ipython",
    "version": 3
   },
   "file_extension": ".py",
   "mimetype": "text/x-python",
   "name": "python",
   "nbconvert_exporter": "python",
   "pygments_lexer": "ipython3",
   "version": "3.5.2"
  }
 },
 "nbformat": 4,
 "nbformat_minor": 1
}
