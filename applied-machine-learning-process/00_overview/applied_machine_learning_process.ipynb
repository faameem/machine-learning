{
 "cells": [
  {
   "cell_type": "markdown",
   "metadata": {},
   "source": [
    "> Reference: [Machine Learning Mastery](http://machinelearningmastery.com/)\n",
    "\n",
    "# [Applied Machine Learning Process](http://machinelearningmastery.com/process-for-working-through-machine-learning-problems/) #\n",
    "\n",
    "1. [Problem Definition](http://machinelearningmastery.com/how-to-define-your-machine-learning-problem/)\n",
    "2. [Analyze Data](http://machinelearningmastery.com/quick-and-dirty-data-analysis-for-your-machine-learning-problem/)\n",
    "3. [Prepare Data](http://machinelearningmastery.com/how-to-prepare-data-for-machine-learning/)\n",
    "4. [Evaluate Algorithms](http://machinelearningmastery.com/how-to-evaluate-machine-learning-algorithms/)\n",
    "    + [Robust Test Harness](http://machinelearningmastery.com/how-to-choose-the-right-test-options-when-evaluating-machine-learning-algorithms/)\n",
    "    + [Spot Check Algorithms](http://machinelearningmastery.com/why-you-should-be-spot-checking-algorithms-on-your-machine-learning-problems/)\n",
    "5. [Improve Results](http://machinelearningmastery.com/how-to-improve-machine-learning-results/)\n",
    "6. [Present Results](http://machinelearningmastery.com/how-to-use-machine-learning-results/)\n",
    "\n",
    "### Process Overview Diagram ###\n",
    "![Process Overview](images/process_overview.png)"
   ]
  },
  {
   "cell_type": "code",
   "execution_count": null,
   "metadata": {
    "collapsed": true
   },
   "outputs": [],
   "source": []
  }
 ],
 "metadata": {
  "kernelspec": {
   "display_name": "Python [default]",
   "language": "python",
   "name": "python3"
  },
  "language_info": {
   "codemirror_mode": {
    "name": "ipython",
    "version": 3
   },
   "file_extension": ".py",
   "mimetype": "text/x-python",
   "name": "python",
   "nbconvert_exporter": "python",
   "pygments_lexer": "ipython3",
   "version": "3.5.2"
  }
 },
 "nbformat": 4,
 "nbformat_minor": 1
}
