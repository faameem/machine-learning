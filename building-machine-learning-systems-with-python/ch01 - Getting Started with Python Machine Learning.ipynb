{
 "cells": [
  {
   "cell_type": "code",
   "execution_count": 12,
   "metadata": {
    "collapsed": false
   },
   "outputs": [
    {
     "name": "stdout",
     "output_type": "stream",
     "text": [
      "-- python version: 3.5.1 |Anaconda 4.0.0 (64-bit)| (default, Feb 16 2016, 09:49:46) [MSC v.1900 64 bit (AMD64)]\n",
      "-- scipy version: 0.17.0\n",
      "-- numpy version: 1.10.4\n",
      "-- scikit-learn version: 0.17.1\n"
     ]
    }
   ],
   "source": [
    "import sys\n",
    "print(\"-- python version: %s\" % sys.version)\n",
    "import scipy as sp\n",
    "print(\"-- scipy version: %s\" % sp.__version__ )\n",
    "import numpy as np\n",
    "print(\"-- numpy version: %s\" % np.__version__)\n",
    "import sklearn as skl\n",
    "print(\"-- scikit-learn version: %s\" % skl.__version__)"
   ]
  },
  {
   "cell_type": "markdown",
   "metadata": {},
   "source": [
    "+ Python is a flexible language for rapid prototyping.\n",
    "+ The underlying algorithms are all written in optimized C or C++.\n",
    "+ Thus the resulting code is fast and robust enough to be used in production as well.\n",
    "+ Code for the book available at https://github.com/luispedro/BuildingMachineLearningSystemsWithPython"
   ]
  },
  {
   "cell_type": "code",
   "execution_count": null,
   "metadata": {
    "collapsed": true
   },
   "outputs": [],
   "source": []
  },
  {
   "cell_type": "code",
   "execution_count": null,
   "metadata": {
    "collapsed": true
   },
   "outputs": [],
   "source": []
  }
 ],
 "metadata": {
  "kernelspec": {
   "display_name": "Python 3",
   "language": "python",
   "name": "python3"
  },
  "language_info": {
   "codemirror_mode": {
    "name": "ipython",
    "version": 3
   },
   "file_extension": ".py",
   "mimetype": "text/x-python",
   "name": "python",
   "nbconvert_exporter": "python",
   "pygments_lexer": "ipython3",
   "version": "3.5.1"
  }
 },
 "nbformat": 4,
 "nbformat_minor": 0
}
