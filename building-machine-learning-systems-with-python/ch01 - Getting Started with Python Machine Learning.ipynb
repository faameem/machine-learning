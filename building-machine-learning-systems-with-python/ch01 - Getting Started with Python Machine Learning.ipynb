{
 "cells": [
  {
   "cell_type": "code",
   "execution_count": 4,
   "metadata": {
    "collapsed": false
   },
   "outputs": [
    {
     "name": "stdout",
     "output_type": "stream",
     "text": [
      "-- python version: 3.5.1 |Anaconda 4.0.0 (x86_64)| (default, Dec  7 2015, 11:24:55) \n",
      "[GCC 4.2.1 (Apple Inc. build 5577)]\n",
      "-- numpy version: 1.10.4\n",
      "-- scipy version: 0.17.0\n",
      "-- scikit-learn version: 0.17.1\n",
      "-- matplotlib version: 1.5.1\n"
     ]
    }
   ],
   "source": [
    "import sys\n",
    "print(\"-- python version: %s\" % sys.version)\n",
    "import numpy as np\n",
    "print(\"-- numpy version: %s\" % np.__version__)\n",
    "import scipy as sp\n",
    "print(\"-- scipy version: %s\" % sp.__version__ )\n",
    "import sklearn as skl\n",
    "print(\"-- scikit-learn version: %s\" % skl.__version__)\n",
    "import matplotlib as mpl\n",
    "print(\"-- matplotlib version: %s\" % mpl.__version__)"
   ]
  },
  {
   "cell_type": "markdown",
   "metadata": {},
   "source": [
    "+ Python is a flexible language for rapid prototyping.\n",
    "+ The underlying algorithms are all written in optimized C or C++.\n",
    "+ Thus the resulting code is fast and robust enough to be used in production as well.\n",
    "\n",
    "\n",
    "+ Code for the book available at https://github.com/luispedro/BuildingMachineLearningSystemsWithPython\n",
    "\n",
    "\n",
    "+ Machine Learning is also referred to as Data Mining or Predictive Analysis.\n",
    "\n",
    "\n",
    "#### Machine Learning Workflow (most of the time will be spent in rather mundane tasks)\n",
    "+ Reading in the data and cleaning it\n",
    "+ Exploring and understanding the input data\n",
    "+ Analyzing how best to present the data to the learning algorithm\n",
    "+ Choosing the right model and learning algorithm\n",
    "+ Measuring the performance correctly\n",
    "\n",
    "#### Feature Engineering\n",
    "Often you will not feed the data directly into your machine learning algorithm. Instead you will find that you can refine parts of the data before training. Many times the machine learning algorithm will reward you with increased performance. You will even find that a simple algorithm with refined data generally outperforms a very sophisticated algorithm with raw data. This part of the machine learning workflow is called feature engineering, and is most of the time a very exciting and rewarding challenge\n",
    "\n",
    "#### When Stuck, Use\n",
    "+ http://metaoptimize.com/qa\n",
    "+ http://stats.stackexchange.com\n",
    "+ http://stackoverflow.com\n",
    "+ #machinelearning\n",
    "+ https://freenode.net/\n",
    "+ http://www.TwoToReal.com\n",
    "\n",
    "#### Machine Learning Blogs\n",
    "+ http://blog.kaggle.com\n",
    "\n",
    "#### SciPy.org [SciPy, Pandas, NumPy, Matplotlib, SymPy, IPython]  \n",
    "+ http://www.scipy-lectures.org/index.html#\n",
    "+ http://scipy.org/docs.html\n",
    "\n",
    "\n"
   ]
  },
  {
   "cell_type": "code",
   "execution_count": 15,
   "metadata": {
    "collapsed": false
   },
   "outputs": [
    {
     "name": "stdout",
     "output_type": "stream",
     "text": [
      "-- numpy version: 1.10.4\n",
      "-- numpy array: [0 1 2 3 4 5]\n",
      "-- dimensions: 1\n",
      "-- shape: \n",
      "(6,)\n",
      "-- 3x2 matrix: \n",
      "[[0 1]\n",
      " [2 3]\n",
      " [4 5]]\n",
      "-- dimensions: 2\n",
      "-- shape: \n",
      "b.shape\n"
     ]
    }
   ],
   "source": [
    "# don't do the following in order to avoid name collisions\n",
    "# from numpy import *\n",
    "# instead use this\n",
    "import numpy as np\n",
    "print(\"-- numpy version: %s\" % np.version.full_version)\n",
    "a=np.array([0,1,2,3,4,5])\n",
    "print(\"-- numpy array: %s\" % a)\n",
    "print(\"-- dimensions: %s\" % a.ndim)\n",
    "print(\"-- shape: \")\n",
    "print(a.shape)\n",
    "\n",
    "# transform a into 2 dimensional matrix\n",
    "b=a.reshape((3,2))\n",
    "print(\"-- 3x2 matrix: \")\n",
    "print(b)\n",
    "print(\"-- dimensions: %s\" % b.ndim)\n",
    "print(\"-- shape: \")\n",
    "print(\"b.shape\")"
   ]
  },
  {
   "cell_type": "code",
   "execution_count": null,
   "metadata": {
    "collapsed": true
   },
   "outputs": [],
   "source": []
  }
 ],
 "metadata": {
  "kernelspec": {
   "display_name": "Python 3",
   "language": "python",
   "name": "python3"
  },
  "language_info": {
   "codemirror_mode": {
    "name": "ipython",
    "version": 3
   },
   "file_extension": ".py",
   "mimetype": "text/x-python",
   "name": "python",
   "nbconvert_exporter": "python",
   "pygments_lexer": "ipython3",
   "version": "3.5.1"
  }
 },
 "nbformat": 4,
 "nbformat_minor": 0
}
