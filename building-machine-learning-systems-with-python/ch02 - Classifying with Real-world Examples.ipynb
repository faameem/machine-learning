{
 "cells": [
  {
   "cell_type": "markdown",
   "metadata": {
    "collapsed": true
   },
   "source": [
    "# Chapter 2: Classifying with Real-world Examples\n",
    "\n",
    "### Classification (type of supervised learning)\n",
    "- given labeled examples, can we design a rule to be later applied to other examples?\n",
    "\n",
    "### Classification example \n",
    "- Spam email detector trained using spam and ham (non-spam) messages.\n",
    "\n",
    "### Dataset\n",
    "- Collection of morpholigical measurments of several Iris flowers.\n",
    "- 150 instances, 4 features\n",
    "\n",
    "### Features\n",
    "- Sepal length\n",
    "- Sepal width\n",
    "- Petal length\n",
    "- Petal width\n",
    "\n",
    "### Question\n",
    "- Given these examples, if we see a new flower out in the field, could we make a good prediction about its species from its measurements?\n",
    "\n",
    "### Visualization as initial exploratory analysis allow:\n",
    "- learning the general features of the data set.\n",
    "- catching of problems that occured with data collection early.\n"
   ]
  },
  {
   "cell_type": "code",
   "execution_count": null,
   "metadata": {
    "collapsed": true
   },
   "outputs": [],
   "source": []
  }
 ],
 "metadata": {
  "kernelspec": {
   "display_name": "Python 3",
   "language": "python",
   "name": "python3"
  },
  "language_info": {
   "codemirror_mode": {
    "name": "ipython",
    "version": 3
   },
   "file_extension": ".py",
   "mimetype": "text/x-python",
   "name": "python",
   "nbconvert_exporter": "python",
   "pygments_lexer": "ipython3",
   "version": "3.5.2"
  }
 },
 "nbformat": 4,
 "nbformat_minor": 0
}
