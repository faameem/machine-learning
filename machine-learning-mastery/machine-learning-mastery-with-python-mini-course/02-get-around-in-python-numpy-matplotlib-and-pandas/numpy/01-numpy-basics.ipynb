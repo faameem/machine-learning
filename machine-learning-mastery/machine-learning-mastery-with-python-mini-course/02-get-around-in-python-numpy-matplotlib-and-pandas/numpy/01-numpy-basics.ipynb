{
 "cells": [
  {
   "cell_type": "markdown",
   "metadata": {},
   "source": [
    "> Reference: [machine learning mastery](http://machinelearningmastery.com/crash-course-python-machine-learning-developers/)\n",
    "\n",
    "NumPy provides the foundation data structures and operations for SciPy. These are arrays (ndarrays) that are efficient to define and manipulate.\n",
    "\n",
    "# Create Array #"
   ]
  },
  {
   "cell_type": "code",
   "execution_count": 24,
   "metadata": {
    "collapsed": false
   },
   "outputs": [
    {
     "name": "stdout",
     "output_type": "stream",
     "text": [
      "[1, 2, 3]\n",
      "[1 2 3]\n",
      "(3,)\n"
     ]
    }
   ],
   "source": [
    "import numpy\n",
    "mylist=[1,2,3]\n",
    "myarray=numpy.array(mylist)\n",
    "print(mylist)\n",
    "print(myarray)\n",
    "print(myarray.shape)"
   ]
  },
  {
   "cell_type": "markdown",
   "metadata": {},
   "source": [
    "# Access Data #"
   ]
  },
  {
   "cell_type": "code",
   "execution_count": 25,
   "metadata": {
    "collapsed": false
   },
   "outputs": [
    {
     "name": "stdout",
     "output_type": "stream",
     "text": [
      "(2, 3)\n",
      "[[1 2 3]\n",
      " [3 4 5]]\n",
      "first row: [1 2 3]\n",
      "last row: [3 4 5]\n",
      "specific row and column: 3\n",
      "whole column: [3 5]\n"
     ]
    }
   ],
   "source": [
    "import numpy\n",
    "mylist=[[1,2,3],[3,4,5]]\n",
    "myarray=numpy.array(mylist)\n",
    "print(myarray.shape)\n",
    "print(myarray)\n",
    "print('first row: {}'.format(myarray[0]))\n",
    "print('last row: {}'.format(myarray[-1]))\n",
    "print('specific row and column: {}'.format(myarray[0,2]))\n",
    "print('whole column: {}'.format(myarray[:,2]))"
   ]
  },
  {
   "cell_type": "markdown",
   "metadata": {},
   "source": [
    "# Arithmetic #"
   ]
  },
  {
   "cell_type": "code",
   "execution_count": 26,
   "metadata": {
    "collapsed": false
   },
   "outputs": [
    {
     "name": "stdout",
     "output_type": "stream",
     "text": [
      "addition: [5 5 5]\n",
      "subtraction: [-1 -1 -1]\n",
      "multiplication: [6 6 6]\n",
      "division: [ 0.66666667  0.66666667  0.66666667]\n"
     ]
    }
   ],
   "source": [
    "import numpy\n",
    "myarray1=numpy.array([2,2,2])\n",
    "myarray2=numpy.array([3,3,3])\n",
    "print('addition: {}'.format(myarray1+myarray2))\n",
    "print('subtraction: {}'.format(myarray1-myarray2))\n",
    "print('multiplication: {}'.format(myarray1*myarray2))\n",
    "print('division: {}'.format(myarray1/myarray2))"
   ]
  },
  {
   "cell_type": "code",
   "execution_count": null,
   "metadata": {
    "collapsed": true
   },
   "outputs": [],
   "source": []
  }
 ],
 "metadata": {
  "kernelspec": {
   "display_name": "Python 3",
   "language": "python",
   "name": "python3"
  },
  "language_info": {
   "codemirror_mode": {
    "name": "ipython",
    "version": 3
   },
   "file_extension": ".py",
   "mimetype": "text/x-python",
   "name": "python",
   "nbconvert_exporter": "python",
   "pygments_lexer": "ipython3",
   "version": "3.5.2"
  }
 },
 "nbformat": 4,
 "nbformat_minor": 0
}
