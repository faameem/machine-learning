{
 "cells": [
  {
   "cell_type": "markdown",
   "metadata": {},
   "source": [
    "> Reference:\n",
    "+ [machine learning mastery](http://machinelearningmastery.com/load-machine-learning-data-python/)"
   ]
  },
  {
   "cell_type": "code",
   "execution_count": 18,
   "metadata": {
    "collapsed": false
   },
   "outputs": [
    {
     "name": "stdout",
     "output_type": "stream",
     "text": [
      "(23279,)\n"
     ]
    },
    {
     "data": {
      "text/plain": [
       "array([['6'], ['', ''], ['1'], ['4'], ['8']], dtype=object)"
      ]
     },
     "execution_count": 18,
     "metadata": {},
     "output_type": "execute_result"
    }
   ],
   "source": [
    "# load csv with python standard library\n",
    "import csv\n",
    "import numpy\n",
    "from urllib.request import urlopen\n",
    "filename='https://archive.ics.uci.edu/ml/machine-learning-databases/pima-indians-diabetes/pima-indians-diabetes.data'\n",
    "# for local file\n",
    "#raw_data=open(filename,'rb')\n",
    "raw_data=urlopen(filename)\n",
    "reader=csv.reader(raw_data.read().decode('utf-8'),delimiter=\",\",quoting=csv.QUOTE_NONE)\n",
    "x=list(reader)\n",
    "data=numpy.array(x)\n",
    "print(data.shape)\n",
    "data[:5]"
   ]
  },
  {
   "cell_type": "code",
   "execution_count": 19,
   "metadata": {
    "collapsed": false
   },
   "outputs": [
    {
     "name": "stdout",
     "output_type": "stream",
     "text": [
      "(768, 9)\n",
      "[[  6.00000000e+00   1.48000000e+02   7.20000000e+01   3.50000000e+01\n",
      "    0.00000000e+00   3.36000000e+01   6.27000000e-01   5.00000000e+01\n",
      "    1.00000000e+00]\n",
      " [  1.00000000e+00   8.50000000e+01   6.60000000e+01   2.90000000e+01\n",
      "    0.00000000e+00   2.66000000e+01   3.51000000e-01   3.10000000e+01\n",
      "    0.00000000e+00]\n",
      " [  8.00000000e+00   1.83000000e+02   6.40000000e+01   0.00000000e+00\n",
      "    0.00000000e+00   2.33000000e+01   6.72000000e-01   3.20000000e+01\n",
      "    1.00000000e+00]\n",
      " [  1.00000000e+00   8.90000000e+01   6.60000000e+01   2.30000000e+01\n",
      "    9.40000000e+01   2.81000000e+01   1.67000000e-01   2.10000000e+01\n",
      "    0.00000000e+00]\n",
      " [  0.00000000e+00   1.37000000e+02   4.00000000e+01   3.50000000e+01\n",
      "    1.68000000e+02   4.31000000e+01   2.28800000e+00   3.30000000e+01\n",
      "    1.00000000e+00]]\n"
     ]
    }
   ],
   "source": [
    "# Load the Pima Indians diabetes dataset from CSV URL\n",
    "import numpy as np\n",
    "from urllib.request import urlopen\n",
    "# URL for the Pima Indians Diabetes dataset (UCI Machine Learning Repository)\n",
    "url = \"http://goo.gl/j0Rvxq\"\n",
    "# download the file\n",
    "raw_data = urlopen(url)\n",
    "# load the CSV file as a numpy matrix\n",
    "dataset = np.loadtxt(raw_data, delimiter=\",\")\n",
    "print(dataset.shape)\n",
    "print(dataset[:5])\n",
    "# separate the data from the target attributes\n",
    "X = dataset[:,0:7]\n",
    "y = dataset[:,8]"
   ]
  },
  {
   "cell_type": "code",
   "execution_count": null,
   "metadata": {
    "collapsed": true
   },
   "outputs": [],
   "source": []
  }
 ],
 "metadata": {
  "kernelspec": {
   "display_name": "Python 3",
   "language": "python",
   "name": "python3"
  },
  "language_info": {
   "codemirror_mode": {
    "name": "ipython",
    "version": 3
   },
   "file_extension": ".py",
   "mimetype": "text/x-python",
   "name": "python",
   "nbconvert_exporter": "python",
   "pygments_lexer": "ipython3",
   "version": "3.5.2"
  }
 },
 "nbformat": 4,
 "nbformat_minor": 0
}
