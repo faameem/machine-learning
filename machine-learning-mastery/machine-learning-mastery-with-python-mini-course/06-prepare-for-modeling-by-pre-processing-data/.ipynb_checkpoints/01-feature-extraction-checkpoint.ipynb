{
 "cells": [
  {
   "cell_type": "markdown",
   "metadata": {},
   "source": [
    "> Reference:\n",
    "+ [scikit-learn: feature extraction](http://scikit-learn.org/stable/modules/feature_extraction.html#feature-extraction)\n",
    "\n",
    "- [**Feature extraction**](http://scikit-learn.org/stable/modules/feature_extraction.html#feature-extraction) transforms arbitrary data, such as text or images, into numerical features usable for machine learning.\n",
    "- [**Feature selection**](http://scikit-learn.org/stable/modules/feature_selection.html#feature-selection) is a machine learning technique applied on the features extracted. It is used for feature selection/dimensionality reduction on sample sets, either to improve estimators’ accuracy scores or to boost their performance on very high-dimensional datasets.\n"
   ]
  },
  {
   "cell_type": "markdown",
   "metadata": {},
   "source": []
  }
 ],
 "metadata": {
  "anaconda-cloud": {},
  "kernelspec": {
   "display_name": "Python 3",
   "language": "python",
   "name": "python3"
  },
  "language_info": {
   "codemirror_mode": {
    "name": "ipython",
    "version": 3
   },
   "file_extension": ".py",
   "mimetype": "text/x-python",
   "name": "python",
   "nbconvert_exporter": "python",
   "pygments_lexer": "ipython3",
   "version": "3.5.2"
  }
 },
 "nbformat": 4,
 "nbformat_minor": 1
}
