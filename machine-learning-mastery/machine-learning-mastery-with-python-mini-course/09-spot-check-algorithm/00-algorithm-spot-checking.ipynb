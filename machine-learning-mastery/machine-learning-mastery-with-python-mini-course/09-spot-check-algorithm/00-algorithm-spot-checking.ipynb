{
 "cells": [
  {
   "cell_type": "markdown",
   "metadata": {},
   "source": [
    "> Reference: \n",
    "\n",
    "+ Spot checking algorithm is a trial and error process to determine the best performing algorithm for the dataset at hand.\n",
    "    - Linear algorithms:\n",
    "        + Linear regression\n",
    "        + Logistic regression\n",
    "        + Linear discriminate analysis\n",
    "    - Nonlinear algorithms:\n",
    "        + KNN\n",
    "        + SVM\n",
    "        + CART\n",
    "    - Ensemble algorithms:\n",
    "        + Random forest\n",
    "        + Stochastic gradient boosting"
   ]
  },
  {
   "cell_type": "code",
   "execution_count": null,
   "metadata": {
    "collapsed": true
   },
   "outputs": [],
   "source": []
  }
 ],
 "metadata": {
  "anaconda-cloud": {},
  "kernelspec": {
   "display_name": "Python [default]",
   "language": "python",
   "name": "python3"
  },
  "language_info": {
   "codemirror_mode": {
    "name": "ipython",
    "version": 3
   },
   "file_extension": ".py",
   "mimetype": "text/x-python",
   "name": "python",
   "nbconvert_exporter": "python",
   "pygments_lexer": "ipython3",
   "version": "3.5.2"
  }
 },
 "nbformat": 4,
 "nbformat_minor": 1
}
