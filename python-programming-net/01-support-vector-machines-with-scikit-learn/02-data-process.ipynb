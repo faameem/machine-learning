{
 "cells": [
  {
   "cell_type": "code",
   "execution_count": 17,
   "metadata": {
    "collapsed": false
   },
   "outputs": [
    {
     "name": "stdout",
     "output_type": "stream",
     "text": [
      "TotalDebtEquitymrq.csv\n"
     ]
    }
   ],
   "source": [
    "import pandas as pd\n",
    "import os\n",
    "import time\n",
    "from datetime import datetime\n",
    "\n",
    "# Our goal here is to determine investing strategy based on\n",
    "# fundamental analysis of stocks.\n",
    "# features = various fundamental analysis variables\n",
    "# class = (to keep it simple) Outperform / Underperform\n",
    "\n",
    "# we can get pricing data from SEC or YahooFinance\n",
    "# Here the data was obtained from YahooFinance into a zip file\n",
    "# https://pythonprogramming.net/static/downloads/machine-learning-data/intraQuarter.zip\n",
    "# Unzip this file in ../00-data\n",
    "\n",
    "# For comparison, we will use S&P500 index against individual stocks\n",
    "# Head on over to quandl.com, search for S&P 500, choose index, \n",
    "# Choose data from the year 2000 on-wards. After that, click on \"download,\" \n",
    "# choosing CSV. Get file YAHOO-INDEX_GSPC.csv\n",
    "\n",
    "# The reason for the Try and Except here is because some of our stock data may have been \n",
    "# pulled on a weekend day. If we hunt for a weekend day's value of the S&P 500, that date \n",
    "# just simply wont exist in the dataset, since there is only data for Monday-Friday.\n",
    "\n",
    "path = \"../00-data/intraQuarter\"\n",
    "\n",
    "def Key_Stats(gather=\"Total Debt/Equity (mrq)\"):\n",
    "    statspath = path+'/_KeyStats'\n",
    "    stock_list = [x[0] for x in os.walk(statspath)]\n",
    "    df = pd.DataFrame(columns = ['Date',\n",
    "                                 'Unix',\n",
    "                                 'Ticker',\n",
    "                                 'DE Ratio',\n",
    "                                 'Price',\n",
    "                                 'stock_p_change',\n",
    "                                 'SP500',\n",
    "                                 'sp500_p_change'])\n",
    "    sp500_df = pd.DataFrame.from_csv(\"../00-data/YAHOO-INDEX_GSPC.csv\")\n",
    "    for each_dir in stock_list[1:25]:\n",
    "        each_file = os.listdir(each_dir)\n",
    "        ticker = each_dir.split(\"/\")[-1]\n",
    "        if len(each_file) > 0:\n",
    "            for file in each_file:\n",
    "                date_stamp = datetime.strptime(file, '%Y%m%d%H%M%S.html')\n",
    "                unix_time = time.mktime(date_stamp.timetuple())\n",
    "                full_file_path = each_dir+'/'+file\n",
    "                source = open(full_file_path,'r').read()\n",
    "                try:\n",
    "                    value = float(source.split(gather+':</td><td class=\"yfnc_tabledata1\">')[1].split('</td>')[0])\n",
    "\n",
    "                    try:\n",
    "                        sp500_date = datetime.fromtimestamp(unix_time).strftime('%Y-%m-%d')\n",
    "                        row = sp500_df[(sp500_df.index == sp500_date)]\n",
    "                        sp500_value = float(row[\"Adjusted Close\"])\n",
    "                    except:\n",
    "                        sp500_date = datetime.fromtimestamp(unix_time-259200).strftime('%Y-%m-%d')\n",
    "                        row = sp500_df[(sp500_df.index == sp500_date)]\n",
    "                        sp500_value = float(row[\"Adjusted Close\"])\n",
    "\n",
    "\n",
    "                    stock_price = float(source.split('</small><big><b>')[1].split('</b></big>')[0])\n",
    "                        \n",
    "                    \n",
    "\n",
    "                    df = df.append({'Date':date_stamp,\n",
    "                                    'Unix':unix_time,\n",
    "                                    'Ticker':ticker,\n",
    "                                    'DE Ratio':value,\n",
    "                                    'Price':stock_price,\n",
    "                                    'SP500':sp500_value}, ignore_index = True)\n",
    "                except Exception as e:\n",
    "                    pass\n",
    "\n",
    "    save = gather.replace(' ','').replace(')','').replace('(','').replace('/','')+('.csv')\n",
    "    print(save)\n",
    "    df.to_csv('../00-data/'+save)\n",
    "    \n",
    "Key_Stats()"
   ]
  },
  {
   "cell_type": "code",
   "execution_count": null,
   "metadata": {
    "collapsed": true
   },
   "outputs": [],
   "source": []
  }
 ],
 "metadata": {
  "anaconda-cloud": {},
  "kernelspec": {
   "display_name": "Python 3",
   "language": "python",
   "name": "python3"
  },
  "language_info": {
   "codemirror_mode": {
    "name": "ipython",
    "version": 3
   },
   "file_extension": ".py",
   "mimetype": "text/x-python",
   "name": "python",
   "nbconvert_exporter": "python",
   "pygments_lexer": "ipython3",
   "version": "3.5.2"
  }
 },
 "nbformat": 4,
 "nbformat_minor": 1
}
