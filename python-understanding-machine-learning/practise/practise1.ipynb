{
 "cells": [
  {
   "cell_type": "code",
   "execution_count": 5,
   "metadata": {
    "collapsed": true
   },
   "outputs": [],
   "source": [
    "import pandas as pd\n",
    "import matplotlib.pyplot as plt\n",
    "\n",
    "%matplotlib inline"
   ]
  },
  {
   "cell_type": "code",
   "execution_count": 9,
   "metadata": {
    "collapsed": false
   },
   "outputs": [],
   "source": [
    "data_uri=\"http://archive.ics.uci.edu/ml/machine-learning-databases/pima-indians-diabetes/pima-indians-diabetes.data\"\n",
    "data_headers=[\"preg\",\"conc\",\"bp\",\"thick\",\"insulin\",\"bmi\",\"pedigree\",\"age\",\"class\"]\n",
    "data_frame=pd.read_csv(data_uri,names=data_headers)"
   ]
  },
  {
   "cell_type": "code",
   "execution_count": 11,
   "metadata": {
    "collapsed": false
   },
   "outputs": [
    {
     "data": {
      "text/plain": [
       "(768, 9)"
      ]
     },
     "execution_count": 11,
     "metadata": {},
     "output_type": "execute_result"
    }
   ],
   "source": [
    "data_frame.shape"
   ]
  },
  {
   "cell_type": "code",
   "execution_count": 12,
   "metadata": {
    "collapsed": false
   },
   "outputs": [
    {
     "data": {
      "text/html": [
       "<div>\n",
       "<table border=\"1\" class=\"dataframe\">\n",
       "  <thead>\n",
       "    <tr style=\"text-align: right;\">\n",
       "      <th></th>\n",
       "      <th>preg</th>\n",
       "      <th>conc</th>\n",
       "      <th>bp</th>\n",
       "      <th>thick</th>\n",
       "      <th>insulin</th>\n",
       "      <th>bmi</th>\n",
       "      <th>pedigree</th>\n",
       "      <th>age</th>\n",
       "      <th>class</th>\n",
       "    </tr>\n",
       "  </thead>\n",
       "  <tbody>\n",
       "    <tr>\n",
       "      <th>0</th>\n",
       "      <td>6</td>\n",
       "      <td>148</td>\n",
       "      <td>72</td>\n",
       "      <td>35</td>\n",
       "      <td>0</td>\n",
       "      <td>33.6</td>\n",
       "      <td>0.627</td>\n",
       "      <td>50</td>\n",
       "      <td>1</td>\n",
       "    </tr>\n",
       "    <tr>\n",
       "      <th>1</th>\n",
       "      <td>1</td>\n",
       "      <td>85</td>\n",
       "      <td>66</td>\n",
       "      <td>29</td>\n",
       "      <td>0</td>\n",
       "      <td>26.6</td>\n",
       "      <td>0.351</td>\n",
       "      <td>31</td>\n",
       "      <td>0</td>\n",
       "    </tr>\n",
       "    <tr>\n",
       "      <th>2</th>\n",
       "      <td>8</td>\n",
       "      <td>183</td>\n",
       "      <td>64</td>\n",
       "      <td>0</td>\n",
       "      <td>0</td>\n",
       "      <td>23.3</td>\n",
       "      <td>0.672</td>\n",
       "      <td>32</td>\n",
       "      <td>1</td>\n",
       "    </tr>\n",
       "    <tr>\n",
       "      <th>3</th>\n",
       "      <td>1</td>\n",
       "      <td>89</td>\n",
       "      <td>66</td>\n",
       "      <td>23</td>\n",
       "      <td>94</td>\n",
       "      <td>28.1</td>\n",
       "      <td>0.167</td>\n",
       "      <td>21</td>\n",
       "      <td>0</td>\n",
       "    </tr>\n",
       "    <tr>\n",
       "      <th>4</th>\n",
       "      <td>0</td>\n",
       "      <td>137</td>\n",
       "      <td>40</td>\n",
       "      <td>35</td>\n",
       "      <td>168</td>\n",
       "      <td>43.1</td>\n",
       "      <td>2.288</td>\n",
       "      <td>33</td>\n",
       "      <td>1</td>\n",
       "    </tr>\n",
       "  </tbody>\n",
       "</table>\n",
       "</div>"
      ],
      "text/plain": [
       "   preg  conc  bp  thick  insulin   bmi  pedigree  age  class\n",
       "0     6   148  72     35        0  33.6     0.627   50      1\n",
       "1     1    85  66     29        0  26.6     0.351   31      0\n",
       "2     8   183  64      0        0  23.3     0.672   32      1\n",
       "3     1    89  66     23       94  28.1     0.167   21      0\n",
       "4     0   137  40     35      168  43.1     2.288   33      1"
      ]
     },
     "execution_count": 12,
     "metadata": {},
     "output_type": "execute_result"
    }
   ],
   "source": [
    "data_frame.head(5)"
   ]
  },
  {
   "cell_type": "code",
   "execution_count": 13,
   "metadata": {
    "collapsed": false
   },
   "outputs": [
    {
     "data": {
      "text/html": [
       "<div>\n",
       "<table border=\"1\" class=\"dataframe\">\n",
       "  <thead>\n",
       "    <tr style=\"text-align: right;\">\n",
       "      <th></th>\n",
       "      <th>preg</th>\n",
       "      <th>conc</th>\n",
       "      <th>bp</th>\n",
       "      <th>thick</th>\n",
       "      <th>insulin</th>\n",
       "      <th>bmi</th>\n",
       "      <th>pedigree</th>\n",
       "      <th>age</th>\n",
       "      <th>class</th>\n",
       "    </tr>\n",
       "  </thead>\n",
       "  <tbody>\n",
       "    <tr>\n",
       "      <th>763</th>\n",
       "      <td>10</td>\n",
       "      <td>101</td>\n",
       "      <td>76</td>\n",
       "      <td>48</td>\n",
       "      <td>180</td>\n",
       "      <td>32.9</td>\n",
       "      <td>0.171</td>\n",
       "      <td>63</td>\n",
       "      <td>0</td>\n",
       "    </tr>\n",
       "    <tr>\n",
       "      <th>764</th>\n",
       "      <td>2</td>\n",
       "      <td>122</td>\n",
       "      <td>70</td>\n",
       "      <td>27</td>\n",
       "      <td>0</td>\n",
       "      <td>36.8</td>\n",
       "      <td>0.340</td>\n",
       "      <td>27</td>\n",
       "      <td>0</td>\n",
       "    </tr>\n",
       "    <tr>\n",
       "      <th>765</th>\n",
       "      <td>5</td>\n",
       "      <td>121</td>\n",
       "      <td>72</td>\n",
       "      <td>23</td>\n",
       "      <td>112</td>\n",
       "      <td>26.2</td>\n",
       "      <td>0.245</td>\n",
       "      <td>30</td>\n",
       "      <td>0</td>\n",
       "    </tr>\n",
       "    <tr>\n",
       "      <th>766</th>\n",
       "      <td>1</td>\n",
       "      <td>126</td>\n",
       "      <td>60</td>\n",
       "      <td>0</td>\n",
       "      <td>0</td>\n",
       "      <td>30.1</td>\n",
       "      <td>0.349</td>\n",
       "      <td>47</td>\n",
       "      <td>1</td>\n",
       "    </tr>\n",
       "    <tr>\n",
       "      <th>767</th>\n",
       "      <td>1</td>\n",
       "      <td>93</td>\n",
       "      <td>70</td>\n",
       "      <td>31</td>\n",
       "      <td>0</td>\n",
       "      <td>30.4</td>\n",
       "      <td>0.315</td>\n",
       "      <td>23</td>\n",
       "      <td>0</td>\n",
       "    </tr>\n",
       "  </tbody>\n",
       "</table>\n",
       "</div>"
      ],
      "text/plain": [
       "     preg  conc  bp  thick  insulin   bmi  pedigree  age  class\n",
       "763    10   101  76     48      180  32.9     0.171   63      0\n",
       "764     2   122  70     27        0  36.8     0.340   27      0\n",
       "765     5   121  72     23      112  26.2     0.245   30      0\n",
       "766     1   126  60      0        0  30.1     0.349   47      1\n",
       "767     1    93  70     31        0  30.4     0.315   23      0"
      ]
     },
     "execution_count": 13,
     "metadata": {},
     "output_type": "execute_result"
    }
   ],
   "source": [
    "data_frame.tail(5)"
   ]
  },
  {
   "cell_type": "code",
   "execution_count": 14,
   "metadata": {
    "collapsed": false
   },
   "outputs": [
    {
     "data": {
      "text/plain": [
       "False"
      ]
     },
     "execution_count": 14,
     "metadata": {},
     "output_type": "execute_result"
    }
   ],
   "source": [
    "data_frame.isnull().values.any()"
   ]
  },
  {
   "cell_type": "code",
   "execution_count": 15,
   "metadata": {
    "collapsed": true
   },
   "outputs": [],
   "source": [
    "def plot_corr(data_frame,size=11):\n",
    "    corr=data_frame.corr()\n",
    "    fig,ax=plt.subplots(figsize=(size,size))\n",
    "    ax.matshow(corr)\n",
    "    plt.xticks(range(len(corr.columns)),corr.columns)\n",
    "    plt.yticks(range(len(corr.columns)),corr.columns)"
   ]
  },
  {
   "cell_type": "code",
   "execution_count": 16,
   "metadata": {
    "collapsed": false
   },
   "outputs": [
    {
     "data": {
      "image/png": "[encoded data removed]",
      "text/plain": [
       "<matplotlib.figure.Figure at 0x11841dcf8>"
      ]
     },
     "metadata": {},
     "output_type": "display_data"
    }
   ],
   "source": [
    "plot_corr(data_frame)"
   ]
  },
  {
   "cell_type": "code",
   "execution_count": 17,
   "metadata": {
    "collapsed": false
   },
   "outputs": [
    {
     "data": {
      "text/html": [
       "<div>\n",
       "<table border=\"1\" class=\"dataframe\">\n",
       "  <thead>\n",
       "    <tr style=\"text-align: right;\">\n",
       "      <th></th>\n",
       "      <th>preg</th>\n",
       "      <th>conc</th>\n",
       "      <th>bp</th>\n",
       "      <th>thick</th>\n",
       "      <th>insulin</th>\n",
       "      <th>bmi</th>\n",
       "      <th>pedigree</th>\n",
       "      <th>age</th>\n",
       "      <th>class</th>\n",
       "    </tr>\n",
       "  </thead>\n",
       "  <tbody>\n",
       "    <tr>\n",
       "      <th>preg</th>\n",
       "      <td>1.000000</td>\n",
       "      <td>0.129459</td>\n",
       "      <td>0.141282</td>\n",
       "      <td>-0.081672</td>\n",
       "      <td>-0.073535</td>\n",
       "      <td>0.017683</td>\n",
       "      <td>-0.033523</td>\n",
       "      <td>0.544341</td>\n",
       "      <td>0.221898</td>\n",
       "    </tr>\n",
       "    <tr>\n",
       "      <th>conc</th>\n",
       "      <td>0.129459</td>\n",
       "      <td>1.000000</td>\n",
       "      <td>0.152590</td>\n",
       "      <td>0.057328</td>\n",
       "      <td>0.331357</td>\n",
       "      <td>0.221071</td>\n",
       "      <td>0.137337</td>\n",
       "      <td>0.263514</td>\n",
       "      <td>0.466581</td>\n",
       "    </tr>\n",
       "    <tr>\n",
       "      <th>bp</th>\n",
       "      <td>0.141282</td>\n",
       "      <td>0.152590</td>\n",
       "      <td>1.000000</td>\n",
       "      <td>0.207371</td>\n",
       "      <td>0.088933</td>\n",
       "      <td>0.281805</td>\n",
       "      <td>0.041265</td>\n",
       "      <td>0.239528</td>\n",
       "      <td>0.065068</td>\n",
       "    </tr>\n",
       "    <tr>\n",
       "      <th>thick</th>\n",
       "      <td>-0.081672</td>\n",
       "      <td>0.057328</td>\n",
       "      <td>0.207371</td>\n",
       "      <td>1.000000</td>\n",
       "      <td>0.436783</td>\n",
       "      <td>0.392573</td>\n",
       "      <td>0.183928</td>\n",
       "      <td>-0.113970</td>\n",
       "      <td>0.074752</td>\n",
       "    </tr>\n",
       "    <tr>\n",
       "      <th>insulin</th>\n",
       "      <td>-0.073535</td>\n",
       "      <td>0.331357</td>\n",
       "      <td>0.088933</td>\n",
       "      <td>0.436783</td>\n",
       "      <td>1.000000</td>\n",
       "      <td>0.197859</td>\n",
       "      <td>0.185071</td>\n",
       "      <td>-0.042163</td>\n",
       "      <td>0.130548</td>\n",
       "    </tr>\n",
       "    <tr>\n",
       "      <th>bmi</th>\n",
       "      <td>0.017683</td>\n",
       "      <td>0.221071</td>\n",
       "      <td>0.281805</td>\n",
       "      <td>0.392573</td>\n",
       "      <td>0.197859</td>\n",
       "      <td>1.000000</td>\n",
       "      <td>0.140647</td>\n",
       "      <td>0.036242</td>\n",
       "      <td>0.292695</td>\n",
       "    </tr>\n",
       "    <tr>\n",
       "      <th>pedigree</th>\n",
       "      <td>-0.033523</td>\n",
       "      <td>0.137337</td>\n",
       "      <td>0.041265</td>\n",
       "      <td>0.183928</td>\n",
       "      <td>0.185071</td>\n",
       "      <td>0.140647</td>\n",
       "      <td>1.000000</td>\n",
       "      <td>0.033561</td>\n",
       "      <td>0.173844</td>\n",
       "    </tr>\n",
       "    <tr>\n",
       "      <th>age</th>\n",
       "      <td>0.544341</td>\n",
       "      <td>0.263514</td>\n",
       "      <td>0.239528</td>\n",
       "      <td>-0.113970</td>\n",
       "      <td>-0.042163</td>\n",
       "      <td>0.036242</td>\n",
       "      <td>0.033561</td>\n",
       "      <td>1.000000</td>\n",
       "      <td>0.238356</td>\n",
       "    </tr>\n",
       "    <tr>\n",
       "      <th>class</th>\n",
       "      <td>0.221898</td>\n",
       "      <td>0.466581</td>\n",
       "      <td>0.065068</td>\n",
       "      <td>0.074752</td>\n",
       "      <td>0.130548</td>\n",
       "      <td>0.292695</td>\n",
       "      <td>0.173844</td>\n",
       "      <td>0.238356</td>\n",
       "      <td>1.000000</td>\n",
       "    </tr>\n",
       "  </tbody>\n",
       "</table>\n",
       "</div>"
      ],
      "text/plain": [
       "              preg      conc        bp     thick   insulin       bmi  \\\n",
       "preg      1.000000  0.129459  0.141282 -0.081672 -0.073535  0.017683   \n",
       "conc      0.129459  1.000000  0.152590  0.057328  0.331357  0.221071   \n",
       "bp        0.141282  0.152590  1.000000  0.207371  0.088933  0.281805   \n",
       "thick    -0.081672  0.057328  0.207371  1.000000  0.436783  0.392573   \n",
       "insulin  -0.073535  0.331357  0.088933  0.436783  1.000000  0.197859   \n",
       "bmi       0.017683  0.221071  0.281805  0.392573  0.197859  1.000000   \n",
       "pedigree -0.033523  0.137337  0.041265  0.183928  0.185071  0.140647   \n",
       "age       0.544341  0.263514  0.239528 -0.113970 -0.042163  0.036242   \n",
       "class     0.221898  0.466581  0.065068  0.074752  0.130548  0.292695   \n",
       "\n",
       "          pedigree       age     class  \n",
       "preg     -0.033523  0.544341  0.221898  \n",
       "conc      0.137337  0.263514  0.466581  \n",
       "bp        0.041265  0.239528  0.065068  \n",
       "thick     0.183928 -0.113970  0.074752  \n",
       "insulin   0.185071 -0.042163  0.130548  \n",
       "bmi       0.140647  0.036242  0.292695  \n",
       "pedigree  1.000000  0.033561  0.173844  \n",
       "age       0.033561  1.000000  0.238356  \n",
       "class     0.173844  0.238356  1.000000  "
      ]
     },
     "execution_count": 17,
     "metadata": {},
     "output_type": "execute_result"
    }
   ],
   "source": [
    "data_frame.corr()"
   ]
  },
  {
   "cell_type": "code",
   "execution_count": 20,
   "metadata": {
    "collapsed": false
   },
   "outputs": [
    {
     "name": "stdout",
     "output_type": "stream",
     "text": [
      "num_true: 268 (34.90%)\n",
      "num_false: 500 (65.10%)\n"
     ]
    }
   ],
   "source": [
    "num_obs=len(data_frame)\n",
    "num_true=len(data_frame.loc[data_frame[\"class\"]==1])\n",
    "num_false=len(data_frame.loc[data_frame[\"class\"]==0])\n",
    "print(\"num_true: {} ({:.2f}%)\".format(num_true,num_true/num_obs*100))\n",
    "print(\"num_false: {} ({:.2f}%)\".format(num_false,num_false/num_obs*100))\n"
   ]
  },
  {
   "cell_type": "code",
   "execution_count": 23,
   "metadata": {
    "collapsed": false
   },
   "outputs": [
    {
     "name": "stdout",
     "output_type": "stream",
     "text": [
      "69.92% in training set\n",
      "30.08% in test set\n"
     ]
    }
   ],
   "source": [
    "from sklearn.cross_validation import train_test_split\n",
    "\n",
    "feature_names=[\"preg\",\"conc\",\"bp\",\"thick\",\"insulin\",\"bmi\",\"pedigree\",\"age\"]\n",
    "target_name=[\"class\"]\n",
    "\n",
    "X=data_frame[feature_names].values\n",
    "y=data_frame[target_name].values\n",
    "\n",
    "split_test_size=0.30\n",
    "\n",
    "X_train,X_test,y_train,y_test=train_test_split(X,y,test_size=split_test_size,random_state=42)\n",
    "print(\"{0:0.2f}% in training set\".format((len(X_train)/len(data_frame.index)*100)))\n",
    "print(\"{0:0.2f}% in test set\".format((len(X_test)/len(data_frame.index)*100)))\n"
   ]
  },
  {
   "cell_type": "code",
   "execution_count": 27,
   "metadata": {
    "collapsed": false
   },
   "outputs": [
    {
     "name": "stdout",
     "output_type": "stream",
     "text": [
      "num_obs: 768\n",
      "z_preg:111, z_pc_preg 14.45%\n",
      "z_conc:5, z_pc_conc 0.65%\n",
      "z_bp:35, z_pc_bp 4.56%\n",
      "z_thick:227, z_pc_thick 29.56%\n",
      "z_insulin:374, z_pc_insulin 48.70%\n",
      "z_bmi:11, z_pc_bmi 1.43%\n",
      "z_pedigree:0, z_pc_pedigree 0.00%\n",
      "z_age:0, z_pc_age 0.00%\n"
     ]
    }
   ],
   "source": [
    "# zero values\n",
    "num_obs=len(data_frame.index)\n",
    "print(\"num_obs: {}\".format(num_obs))\n",
    "\n",
    "z_preg=len(data_frame.loc[data_frame[\"preg\"]==0])\n",
    "z_pc_preg=z_preg/num_obs*100\n",
    "print(\"z_preg:{}, z_pc_preg {:.2f}%\".format(z_preg,z_pc_preg))\n",
    "\n",
    "z_conc=len(data_frame.loc[data_frame[\"conc\"]==0])\n",
    "z_pc_conc=z_conc/num_obs*100\n",
    "print(\"z_conc:{}, z_pc_conc {:.2f}%\".format(z_conc,z_pc_conc))\n",
    "\n",
    "z_bp=len(data_frame.loc[data_frame[\"bp\"]==0])\n",
    "z_pc_bp=z_bp/num_obs*100\n",
    "print(\"z_bp:{}, z_pc_bp {:.2f}%\".format(z_bp,z_pc_bp))\n",
    "\n",
    "z_thick=len(data_frame.loc[data_frame[\"thick\"]==0])\n",
    "z_pc_thick=z_thick/num_obs*100\n",
    "print(\"z_thick:{}, z_pc_thick {:.2f}%\".format(z_thick,z_pc_thick))\n",
    "\n",
    "z_insulin=len(data_frame.loc[data_frame[\"insulin\"]==0])\n",
    "z_pc_insulin=z_insulin/num_obs*100\n",
    "print(\"z_insulin:{}, z_pc_insulin {:.2f}%\".format(z_insulin,z_pc_insulin))\n",
    "\n",
    "z_bmi=len(data_frame.loc[data_frame[\"bmi\"]==0])\n",
    "z_pc_bmi=z_bmi/num_obs*100\n",
    "print(\"z_bmi:{}, z_pc_bmi {:.2f}%\".format(z_bmi,z_pc_bmi))\n",
    "\n",
    "z_pedigree=len(data_frame.loc[data_frame[\"pedigree\"]==0])\n",
    "z_pc_pedigree=z_pedigree/num_obs*100\n",
    "print(\"z_pedigree:{}, z_pc_pedigree {:.2f}%\".format(z_pedigree,z_pc_pedigree))\n",
    "\n",
    "z_age=len(data_frame.loc[data_frame[\"age\"]==0])\n",
    "z_pc_age=z_age/num_obs*100\n",
    "print(\"z_age:{}, z_pc_age {:.2f}%\".format(z_age,z_pc_age))\n"
   ]
  },
  {
   "cell_type": "code",
   "execution_count": 28,
   "metadata": {
    "collapsed": true
   },
   "outputs": [],
   "source": [
    "from sklearn.preprocessing import Imputer\n",
    "fill_0=Imputer(missing_values=0,strategy=\"mean\",axis=0)\n",
    "X_train=fill_0.fit_transform(X_train)\n",
    "X_test=fill_0.fit_transform(X_test)"
   ]
  },
  {
   "cell_type": "code",
   "execution_count": 30,
   "metadata": {
    "collapsed": false
   },
   "outputs": [
    {
     "data": {
      "text/plain": [
       "GaussianNB()"
      ]
     },
     "execution_count": 30,
     "metadata": {},
     "output_type": "execute_result"
    }
   ],
   "source": [
    "from sklearn.naive_bayes import GaussianNB\n",
    "nb_model=GaussianNB()\n",
    "nb_model.fit(X_train,y_train.ravel())"
   ]
  },
  {
   "cell_type": "code",
   "execution_count": 33,
   "metadata": {
    "collapsed": false
   },
   "outputs": [
    {
     "name": "stdout",
     "output_type": "stream",
     "text": [
      "Training accuracy: 75.42%\n",
      "Testing accuracy: 73.59%\n"
     ]
    }
   ],
   "source": [
    "nb_predict_train=nb_model.predict(X_train)\n",
    "nb_predict_test=nb_model.predict(X_test)\n",
    "\n",
    "from sklearn import metrics\n",
    "\n",
    "print(\"Training accuracy: {:.2f}%\".format(metrics.accuracy_score(y_train,nb_predict_train)*100))\n",
    "print(\"Testing accuracy: {:.2f}%\".format(metrics.accuracy_score(y_test,nb_predict_test)*100))"
   ]
  },
  {
   "cell_type": "code",
   "execution_count": 41,
   "metadata": {
    "collapsed": false
   },
   "outputs": [
    {
     "data": {
      "text/plain": [
       "array([[112,  76],\n",
       "       [ 56, 293]])"
      ]
     },
     "execution_count": 41,
     "metadata": {},
     "output_type": "execute_result"
    }
   ],
   "source": [
    "metrics.confusion_matrix(y_train,nb_predict_train,labels=[1,0])"
   ]
  },
  {
   "cell_type": "code",
   "execution_count": 42,
   "metadata": {
    "collapsed": false
   },
   "outputs": [
    {
     "data": {
      "text/plain": [
       "array([[ 52,  28],\n",
       "       [ 33, 118]])"
      ]
     },
     "execution_count": 42,
     "metadata": {},
     "output_type": "execute_result"
    }
   ],
   "source": [
    "metrics.confusion_matrix(y_test,nb_predict_test,labels=[1,0])"
   ]
  },
  {
   "cell_type": "code",
   "execution_count": 43,
   "metadata": {
    "collapsed": false
   },
   "outputs": [
    {
     "data": {
      "text/html": [
       "\n",
       "        <iframe\n",
       "            width=\"300\"\n",
       "            height=\"200\"\n",
       "            src=\"http://archive.ics.uci.edu/ml/machine-learning-databases/iris/iris.data\"\n",
       "            frameborder=\"0\"\n",
       "            allowfullscreen\n",
       "        ></iframe>\n",
       "        "
      ],
      "text/plain": [
       "<IPython.lib.display.IFrame at 0x11cc927f0>"
      ]
     },
     "execution_count": 43,
     "metadata": {},
     "output_type": "execute_result"
    }
   ],
   "source": [
    "from IPython.display import IFrame\n",
    "IFrame('http://archive.ics.uci.edu/ml/machine-learning-databases/iris/iris.data', width=300, height=200)"
   ]
  },
  {
   "cell_type": "code",
   "execution_count": null,
   "metadata": {
    "collapsed": true
   },
   "outputs": [],
   "source": []
  }
 ],
 "metadata": {
  "kernelspec": {
   "display_name": "Python 3",
   "language": "python",
   "name": "python3"
  },
  "language_info": {
   "codemirror_mode": {
    "name": "ipython",
    "version": 3
   },
   "file_extension": ".py",
   "mimetype": "text/x-python",
   "name": "python",
   "nbconvert_exporter": "python",
   "pygments_lexer": "ipython3",
   "version": "3.5.2"
  }
 },
 "nbformat": 4,
 "nbformat_minor": 0
}
